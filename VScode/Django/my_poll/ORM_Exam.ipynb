{
 "cells": [
  {
   "cell_type": "code",
   "execution_count": 1,
   "id": "e5f48c77",
   "metadata": {},
   "outputs": [],
   "source": [
    "# 프로젝트 디렉토리에서 실행\n",
    "# 이 설정을 항상 해야 한다(주피터 노트북을 장고 shell처럼 사용 가능)\n",
    "# jupyter notebook에서 django shell을 사용할 수 있도록 설정\n",
    "import os\n",
    "# settings 파일이 어디 있는지 알려주는 것\n",
    "os.environ['DJANGO_SETTINGS_MODULE'] = 'config.settings'\n",
    "os.environ['DJANGO_ALLOW_ASYNC_UNSAFE'] = 'true'\n",
    "\n",
    "import django\n",
    "django.setup()"
   ]
  },
  {
   "cell_type": "code",
   "execution_count": 2,
   "id": "202171c8",
   "metadata": {},
   "outputs": [],
   "source": [
    "# 얘는 반드시 절대경로\n",
    "# import가 되면 설정이 잘 완료되었다는 의미\n",
    "from polls.models import Question, Choice"
   ]
  },
  {
   "cell_type": "markdown",
   "id": "d04cd059",
   "metadata": {},
   "source": [
    "## 전체조회\n",
    "- all()"
   ]
  },
  {
   "cell_type": "code",
   "execution_count": 3,
   "id": "a124eba9",
   "metadata": {},
   "outputs": [
    {
     "output_type": "execute_result",
     "data": {
      "text/plain": [
       "<QuerySet [<Question: 좋아하는 동물은 무엇입니까?>, <Question: 가고싶은 여행지는 어디입니까?>, <Question: 좋아하는 가수는?>]>"
      ]
     },
     "metadata": {},
     "execution_count": 3
    }
   ],
   "source": [
    "# Model클래스이름.objects.xxxxxx < 관리자로부터 시작\n",
    "# QuerySet 반환\n",
    "qs = Question.objects.all()\n",
    "qs"
   ]
  },
  {
   "cell_type": "code",
   "execution_count": 4,
   "id": "02da4a4d",
   "metadata": {},
   "outputs": [
    {
     "name": "stdout",
     "output_type": "stream",
     "text": [
      "SELECT \"polls_question\".\"id\", \"polls_question\".\"question_text\", \"polls_question\".\"pub_date\" FROM \"polls_question\"\n"
     ]
    }
   ],
   "source": [
    "# QuerySet.query : sql문 조회\n",
    "print(qs.query)"
   ]
  },
  {
   "cell_type": "code",
   "execution_count": 5,
   "id": "85ef6af2",
   "metadata": {},
   "outputs": [
    {
     "name": "stdout",
     "output_type": "stream",
     "text": [
      "좋아하는 색깔은 무엇입니까? <class 'polls.models.Question'>\n",
      "좋아하는 동물은 무엇입니까? <class 'polls.models.Question'>\n",
      "가고싶은 여행지는 어디입니까? <class 'polls.models.Question'>\n"
     ]
    }
   ],
   "source": [
    "for q in qs:\n",
    "    print(q, type(q))\n",
    "    # print는 __str__을 문자열로 바꿔서 출력해줌"
   ]
  },
  {
   "cell_type": "code",
   "execution_count": 6,
   "id": "852ec033",
   "metadata": {},
   "outputs": [
    {
     "data": {
      "text/plain": [
       "<Question: 좋아하는 색깔은 무엇입니까?>"
      ]
     },
     "execution_count": 6,
     "metadata": {},
     "output_type": "execute_result"
    }
   ],
   "source": [
    "# 특정 조회결과 하나 조회 - indexing\n",
    "# 범위 조회: slicing\n",
    "qs[0]"
   ]
  },
  {
   "cell_type": "code",
   "execution_count": 7,
   "id": "afa87445",
   "metadata": {},
   "outputs": [
    {
     "data": {
      "text/plain": [
       "[<Question: 좋아하는 동물은 무엇입니까?>, <Question: 가고싶은 여행지는 어디입니까?>]"
      ]
     },
     "execution_count": 7,
     "metadata": {},
     "output_type": "execute_result"
    }
   ],
   "source": [
    "qs[1:]"
   ]
  },
  {
   "cell_type": "code",
   "execution_count": 8,
   "id": "6a352ce8",
   "metadata": {},
   "outputs": [],
   "source": [
    "# 음수 index는 사용 못한다\n",
    "# qs[-1]"
   ]
  },
  {
   "cell_type": "code",
   "execution_count": 9,
   "id": "62898bc9",
   "metadata": {},
   "outputs": [
    {
     "data": {
      "text/plain": [
       "<Question: 좋아하는 색깔은 무엇입니까?>"
      ]
     },
     "execution_count": 9,
     "metadata": {},
     "output_type": "execute_result"
    }
   ],
   "source": [
    "qs.first()"
   ]
  },
  {
   "cell_type": "code",
   "execution_count": 10,
   "id": "d5cda315",
   "metadata": {},
   "outputs": [
    {
     "data": {
      "text/plain": [
       "<Question: 가고싶은 여행지는 어디입니까?>"
      ]
     },
     "execution_count": 10,
     "metadata": {},
     "output_type": "execute_result"
    }
   ],
   "source": [
    "qs.last()"
   ]
  },
  {
   "cell_type": "code",
   "execution_count": 11,
   "id": "28b3fe20",
   "metadata": {},
   "outputs": [
    {
     "data": {
      "text/plain": [
       "<QuerySet [<Choice: 검정>, <Choice: 파랑>, <Choice: 노랑>, <Choice: 영국>, <Choice: 일본>, <Choice: 중국>, <Choice: 고양이>, <Choice: 강아지>, <Choice: 코알라>, <Choice: 여우>, <Choice: 미국>]>"
      ]
     },
     "execution_count": 11,
     "metadata": {},
     "output_type": "execute_result"
    }
   ],
   "source": [
    "qs = Choice.objects.all()\n",
    "qs"
   ]
  },
  {
   "cell_type": "code",
   "execution_count": 12,
   "id": "c73a070b",
   "metadata": {},
   "outputs": [
    {
     "data": {
      "text/plain": [
       "<QuerySet [<Choice: 강아지>, <Choice: 검정>, <Choice: 고양이>, <Choice: 노랑>, <Choice: 미국>, <Choice: 여우>, <Choice: 영국>, <Choice: 일본>, <Choice: 중국>, <Choice: 코알라>, <Choice: 파랑>]>"
      ]
     },
     "execution_count": 12,
     "metadata": {},
     "output_type": "execute_result"
    }
   ],
   "source": [
    "# ASC\n",
    "qs.order_by('choice_text')"
   ]
  },
  {
   "cell_type": "code",
   "execution_count": 13,
   "id": "fc2f73c9",
   "metadata": {},
   "outputs": [
    {
     "data": {
      "text/plain": [
       "<QuerySet [<Choice: 파랑>, <Choice: 코알라>, <Choice: 중국>, <Choice: 일본>, <Choice: 영국>, <Choice: 여우>, <Choice: 미국>, <Choice: 노랑>, <Choice: 고양이>, <Choice: 검정>, <Choice: 강아지>]>"
      ]
     },
     "execution_count": 13,
     "metadata": {},
     "output_type": "execute_result"
    }
   ],
   "source": [
    "# DESC\n",
    "qs.order_by('-choice_text')"
   ]
  },
  {
   "cell_type": "code",
   "execution_count": 14,
   "id": "de36dee1",
   "metadata": {},
   "outputs": [
    {
     "data": {
      "text/plain": [
       "<QuerySet [<Choice: 강아지>, <Choice: 검정>, <Choice: 고양이>, <Choice: 노랑>, <Choice: 미국>, <Choice: 여우>, <Choice: 영국>, <Choice: 일본>, <Choice: 중국>, <Choice: 코알라>, <Choice: 파랑>]>"
      ]
     },
     "execution_count": 14,
     "metadata": {},
     "output_type": "execute_result"
    }
   ],
   "source": [
    "qs = Choice.objects.all().order_by('choice_text')\n",
    "qs"
   ]
  },
  {
   "cell_type": "code",
   "execution_count": 15,
   "id": "95fca414",
   "metadata": {},
   "outputs": [
    {
     "name": "stdout",
     "output_type": "stream",
     "text": [
      "SELECT \"polls_choice\".\"id\", \"polls_choice\".\"choice_text\", \"polls_choice\".\"vote\", \"polls_choice\".\"question_id\" FROM \"polls_choice\" ORDER BY \"polls_choice\".\"choice_text\" ASC\n"
     ]
    }
   ],
   "source": [
    "print(qs.query)"
   ]
  },
  {
   "cell_type": "code",
   "execution_count": 16,
   "id": "0480317f",
   "metadata": {},
   "outputs": [
    {
     "name": "stdout",
     "output_type": "stream",
     "text": [
      "<class 'polls.models.Choice'>\n"
     ]
    }
   ],
   "source": [
    "c = qs.first()\n",
    "print(type(c))"
   ]
  },
  {
   "cell_type": "code",
   "execution_count": 17,
   "id": "20231125",
   "metadata": {},
   "outputs": [
    {
     "name": "stdout",
     "output_type": "stream",
     "text": [
      "8 강아지 2 2\n"
     ]
    }
   ],
   "source": [
    "# 조회한 Model의 속성을 조회 => 특정 컬럼값 조회 => . 표기법\n",
    "# Choice : id(pk), choice_text, vote, question_id\n",
    "print(c.id, c.choice_text, c.vote, c.question_id)"
   ]
  },
  {
   "cell_type": "code",
   "execution_count": 18,
   "id": "c4f14323",
   "metadata": {},
   "outputs": [
    {
     "name": "stdout",
     "output_type": "stream",
     "text": [
      "8\t강아지\t2\t2\n",
      "1\t검정\t4\t1\n",
      "7\t고양이\t7\t2\n",
      "3\t노랑\t3\t1\n",
      "11\t미국\t4\t3\n",
      "10\t여우\t3\t2\n",
      "4\t영국\t5\t3\n",
      "5\t일본\t1\t3\n",
      "6\t중국\t3\t3\n",
      "9\t코알라\t6\t2\n",
      "2\t파랑\t8\t1\n"
     ]
    }
   ],
   "source": [
    "for c in qs:\n",
    "    print(c.id, c.choice_text, c.vote, c.question_id, sep='\\t')"
   ]
  },
  {
   "cell_type": "markdown",
   "id": "93eb6948",
   "metadata": {},
   "source": [
    "# where절\n",
    "- filter(조회조건)\n",
    "    - 조회조건을 만족하는 0개 이상의 행을 조회\n",
    "- exclude(조회조건)\n",
    "    - 조회조건을 만족하지 않는 0개 이상의 행을 조회 (not)\n",
    "    - filter의 반대\n",
    "- get(조회조건)\n",
    "    - 조회조건을 만족하는 1개 행을 조회<br>\n",
    "<br>\n",
    "- filter/exclude : QuerySet으로 반환\n",
    "- get : Model 객체를 반환"
   ]
  },
  {
   "cell_type": "code",
   "execution_count": 19,
   "id": "c99c8ca1",
   "metadata": {},
   "outputs": [
    {
     "data": {
      "text/plain": [
       "(<QuerySet [<Question: 좋아하는 색깔은 무엇입니까?>]>,\n",
       " <QuerySet [<Question: 좋아하는 동물은 무엇입니까?>]>)"
      ]
     },
     "execution_count": 19,
     "metadata": {},
     "output_type": "execute_result"
    }
   ],
   "source": [
    "# where\n",
    "qs = Question.objects.filter(id=1)\n",
    "# primary key 컬럼 조회 : 컬럼명, pk\n",
    "qs1 = Question.objects.filter(pk=2)\n",
    "qs, qs1"
   ]
  },
  {
   "cell_type": "code",
   "execution_count": 20,
   "id": "8403e6a9",
   "metadata": {},
   "outputs": [],
   "source": [
    "# ??\n",
    "# qs = Question.objects.all()\n",
    "# qs.pub_date"
   ]
  },
  {
   "cell_type": "code",
   "execution_count": 21,
   "id": "de5627d6",
   "metadata": {},
   "outputs": [
    {
     "name": "stdout",
     "output_type": "stream",
     "text": [
      "<class 'polls.models.Question'>\n"
     ]
    }
   ],
   "source": [
    "quest = Question.objects.get(pk=2) # get(): pk로 조회\n",
    "print(type(quest))"
   ]
  },
  {
   "cell_type": "code",
   "execution_count": 22,
   "id": "8fc7cdf7",
   "metadata": {},
   "outputs": [
    {
     "name": "stdout",
     "output_type": "stream",
     "text": [
      "2021-05-25 05:17:57.927847+00:00\n"
     ]
    }
   ],
   "source": [
    "try:\n",
    "    r=Question.objects.get(pk=1)\n",
    "    print(r.pub_date)\n",
    "except:\n",
    "    printi('조회결과가 없습니다')"
   ]
  },
  {
   "cell_type": "code",
   "execution_count": 23,
   "id": "bdcc1047",
   "metadata": {},
   "outputs": [],
   "source": [
    "# MultipleObjectsReturned 오류\n",
    "# 조회결과가 2개 이상일 경우 예외 발생\n",
    "# Question.objects.get(id__gt=1) # id > 1"
   ]
  },
  {
   "cell_type": "code",
   "execution_count": 24,
   "id": "bf6a7785",
   "metadata": {},
   "outputs": [
    {
     "name": "stdout",
     "output_type": "stream",
     "text": [
      "1 검정\n",
      "2 파랑\n",
      "3 노랑\n"
     ]
    }
   ],
   "source": [
    "# 조회조건\n",
    "# qs = Choice.objects.filter(id__gt=3) # id > 3\n",
    "# qs = Choice.objects.filter(id__gte=3) # id >= 3\n",
    "# qs = Choice.objects.filter(id__lt=3) # id < 3\n",
    "qs = Choice.objects.filter(id__lte=3) # id <= 3\n",
    "for q in qs:\n",
    "    print(q.id, q.choice_text)"
   ]
  },
  {
   "cell_type": "code",
   "execution_count": 25,
   "id": "9839b7a9",
   "metadata": {},
   "outputs": [
    {
     "name": "stdout",
     "output_type": "stream",
     "text": [
      "1 좋아하는 색깔은 무엇입니까?\n",
      "2 좋아하는 동물은 무엇입니까?\n"
     ]
    }
   ],
   "source": [
    "# q_t like '가고%'\n",
    "# qs = Question.objects.filter(question_text__startswith='가고')\n",
    "# q_t like '%하세요.'\n",
    "# qs = Question.objects.filter(question_text__endswith='입니까?')\n",
    "# q_t like '%하는%'\n",
    "qs = Question.objects.filter(question_text__contains='하는')\n",
    "for q in qs:\n",
    "    print(q.id, q.question_text)"
   ]
  },
  {
   "cell_type": "code",
   "execution_count": 26,
   "id": "47665f9f",
   "metadata": {},
   "outputs": [
    {
     "name": "stdout",
     "output_type": "stream",
     "text": [
      "SELECT \"polls_choice\".\"id\", \"polls_choice\".\"choice_text\", \"polls_choice\".\"vote\", \"polls_choice\".\"question_id\" FROM \"polls_choice\" WHERE \"polls_choice\".\"id\" BETWEEN 3 AND 7\n",
      "3 노랑\n",
      "4 영국\n",
      "5 일본\n",
      "6 중국\n",
      "7 고양이\n"
     ]
    }
   ],
   "source": [
    "# where id in [2,6,7,20] : in연산자\n",
    "# qs = Choice.objects.filter(id__in=[2,6,7,20])\n",
    "# between 3 and 7\n",
    "qs = Choice.objects.filter(id__range=[3,7])\n",
    "print(qs.query)\n",
    "for q in qs:\n",
    "    print(q.id, q.choice_text)"
   ]
  },
  {
   "cell_type": "code",
   "execution_count": 27,
   "id": "74f86ecf",
   "metadata": {},
   "outputs": [
    {
     "data": {
      "text/plain": [
       "(<QuerySet [<Choice: 노랑>]>, 3, '노랑')"
      ]
     },
     "execution_count": 27,
     "metadata": {},
     "output_type": "execute_result"
    }
   ],
   "source": [
    "# and 조건\n",
    "qs = Choice.objects.filter(pk=3, choice_text='노랑')\n",
    "qs, qs.first().id, qs.first().choice_text"
   ]
  },
  {
   "cell_type": "code",
   "execution_count": 28,
   "id": "02114a7f",
   "metadata": {},
   "outputs": [
    {
     "name": "stdout",
     "output_type": "stream",
     "text": [
      "2 파랑\n",
      "3 노랑\n"
     ]
    }
   ],
   "source": [
    "qs = Choice.objects.filter(pk__lt=5, choice_text__contains='랑')\n",
    "for q in qs:\n",
    "    print(q.id, q.choice_text)"
   ]
  },
  {
   "cell_type": "code",
   "execution_count": 29,
   "id": "d19e5ac5",
   "metadata": {},
   "outputs": [
    {
     "name": "stdout",
     "output_type": "stream",
     "text": [
      "1 검정\n",
      "4 영국\n",
      "5 일본\n",
      "6 중국\n",
      "7 고양이\n",
      "8 강아지\n",
      "9 코알라\n",
      "10 여우\n",
      "11 미국\n"
     ]
    }
   ],
   "source": [
    "# OR조건 Q()\n",
    "# ~Q() not 조건\n",
    "from django.db.models import Q\n",
    "\n",
    "# qs = Choice.objects.filter(Q(pk__gt=5)|Q(choice_text__contains='랑'))\n",
    "qs = Choice.objects.filter(Q(pk__gt=5)|~Q(choice_text__contains='랑'))\n",
    "# qs = Choice.objects.filter(~Q(pk=5)) < exclude 쓰면 된다.\n",
    "for q in qs:\n",
    "    print(q.id, q.choice_text)"
   ]
  },
  {
   "cell_type": "code",
   "execution_count": 30,
   "id": "8f55330c",
   "metadata": {},
   "outputs": [
    {
     "name": "stdout",
     "output_type": "stream",
     "text": [
      "SELECT \"polls_choice\".\"id\", \"polls_choice\".\"choice_text\", \"polls_choice\".\"vote\", \"polls_choice\".\"question_id\" FROM \"polls_choice\" WHERE NOT (\"polls_choice\".\"id\" < 5)\n",
      "5 일본\n",
      "6 중국\n",
      "7 고양이\n",
      "8 강아지\n",
      "9 코알라\n",
      "10 여우\n",
      "11 미국\n"
     ]
    }
   ],
   "source": [
    "# qs = Choice.objects.exclude(pk=5)\n",
    "qs = Choice.objects.exclude(pk__lt=5)\n",
    "print(qs.query)\n",
    "for q in qs:\n",
    "    print(q.id, q.choice_text)"
   ]
  },
  {
   "cell_type": "markdown",
   "id": "fe6b72b2",
   "metadata": {},
   "source": [
    "## 컬럼선택\n",
    "select 컬럼, 컬럼 <br>\n",
    "- values(field이름, ...)\n",
    "    - 개별 조회결과를 Dictionary에 넣어서 반환"
   ]
  },
  {
   "cell_type": "code",
   "execution_count": 31,
   "id": "49302985",
   "metadata": {},
   "outputs": [
    {
     "name": "stdout",
     "output_type": "stream",
     "text": [
      "SELECT \"polls_choice\".\"choice_text\", \"polls_choice\".\"vote\" FROM \"polls_choice\"\n",
      "검정 4\n",
      "파랑 8\n",
      "노랑 3\n",
      "영국 5\n",
      "일본 1\n",
      "중국 3\n",
      "고양이 7\n",
      "강아지 2\n",
      "코알라 6\n",
      "여우 3\n",
      "미국 4\n"
     ]
    }
   ],
   "source": [
    "qs = Choice.objects.all().values('choice_text', 'vote')\n",
    "print(qs.query)\n",
    "for q in qs:\n",
    "    print(q['choice_text'], q['vote'])"
   ]
  },
  {
   "cell_type": "markdown",
   "id": "cb588ec8",
   "metadata": {},
   "source": [
    "# 집계\n",
    "- 단순 집계\n",
    "    - aggregate(집계함수(), ....)\n",
    "- Group by 집계\n",
    "    - values(그룹으로 묶을 컬럼).annotate(집계함수(), ...)\n",
    "- 결과를 dictionary로 반환"
   ]
  },
  {
   "cell_type": "code",
   "execution_count": 35,
   "id": "b7e0678f",
   "metadata": {},
   "outputs": [],
   "source": [
    "from polls.models import Question, Choice"
   ]
  },
  {
   "cell_type": "code",
   "execution_count": 36,
   "id": "6278b7d7",
   "metadata": {},
   "outputs": [
    {
     "data": {
      "text/plain": [
       "(2, 2)"
      ]
     },
     "execution_count": 36,
     "metadata": {},
     "output_type": "execute_result"
    }
   ],
   "source": [
    "# 조회결과 행수 조회\n",
    "# qs = Choice.objects.all()\n",
    "qs = Choice.objects.filter(id__lt=3)\n",
    "len(qs), qs.count()"
   ]
  },
  {
   "cell_type": "code",
   "execution_count": 38,
   "id": "3e7b76e4",
   "metadata": {},
   "outputs": [],
   "source": [
    "from django.db.models import Count, Sum, Avg, Min, Max, StdDev, Variance\n",
    "# StdDev: 표준편차, Variance: 분산"
   ]
  },
  {
   "cell_type": "code",
   "execution_count": 41,
   "id": "69c91304",
   "metadata": {},
   "outputs": [
    {
     "name": "stdout",
     "output_type": "stream",
     "text": [
      "<class 'dict'>\n"
     ]
    },
    {
     "data": {
      "text/plain": [
       "{'id__count': 11,\n",
       " 'choice_text__count': 11,\n",
       " 'vote__sum': 46,\n",
       " 'vote__avg': 4.181818181818182,\n",
       " 'vote__min': 1,\n",
       " 'vote__max': 8,\n",
       " 'vote__stddev': 2.0368505911280073,\n",
       " 'vote__variance': 4.148760330578512}"
      ]
     },
     "execution_count": 41,
     "metadata": {},
     "output_type": "execute_result"
    }
   ],
   "source": [
    "# select count('id') from choice\n",
    "# dic = Choice.objects.aggregate(Count(\"id\"))\n",
    "dic = Choice.objects.aggregate(Count('id'), Count('choice_text'), Sum('vote'), Avg('vote'), Min('vote')\n",
    "                              ,Max('vote'), StdDev('vote'), Variance('vote'))\n",
    "print(type(dic))\n",
    "dic"
   ]
  },
  {
   "cell_type": "code",
   "execution_count": 42,
   "id": "df8600a4",
   "metadata": {},
   "outputs": [
    {
     "data": {
      "text/plain": [
       "{'pub_date__min': datetime.datetime(2021, 5, 25, 5, 17, 57, 927847, tzinfo=<UTC>),\n",
       " 'pub_date__max': datetime.datetime(2021, 5, 25, 5, 21, 4, 197259, tzinfo=<UTC>)}"
      ]
     },
     "execution_count": 42,
     "metadata": {},
     "output_type": "execute_result"
    }
   ],
   "source": [
    "dic = Question.objects.aggregate(Min('pub_date'), Max('pub_date'))\n",
    "dic"
   ]
  },
  {
   "cell_type": "code",
   "execution_count": 45,
   "id": "c2ba7c96",
   "metadata": {
    "scrolled": true
   },
   "outputs": [
    {
     "name": "stdout",
     "output_type": "stream",
     "text": [
      "2021-05-25 05:17:57.927847+00:00\n"
     ]
    },
    {
     "data": {
      "text/plain": [
       "'2021년 05월 25일'"
      ]
     },
     "execution_count": 45,
     "metadata": {},
     "output_type": "execute_result"
    }
   ],
   "source": [
    "print(dic['pub_date__min'])\n",
    "dic['pub_date__max'].strftime('%Y년 %m월 %d일')"
   ]
  },
  {
   "cell_type": "code",
   "execution_count": 47,
   "id": "da8aae64",
   "metadata": {},
   "outputs": [
    {
     "data": {
      "text/plain": [
       "{'vote__sum': 25}"
      ]
     },
     "execution_count": 47,
     "metadata": {},
     "output_type": "execute_result"
    }
   ],
   "source": [
    "# where + 집계\n",
    "dic = Choice.objects.filter(id__gt = 5).aggregate(Sum('vote'))\n",
    "dic"
   ]
  },
  {
   "cell_type": "code",
   "execution_count": 49,
   "id": "137d82f6",
   "metadata": {},
   "outputs": [
    {
     "data": {
      "text/plain": [
       "<QuerySet [{'question_id': 1, 'vote__sum': 15, 'vote__avg': 5.0}, {'question_id': 2, 'vote__sum': 18, 'vote__avg': 4.5}, {'question_id': 3, 'vote__sum': 13, 'vote__avg': 3.25}]>"
      ]
     },
     "execution_count": 49,
     "metadata": {},
     "output_type": "execute_result"
    }
   ],
   "source": [
    "# group by\n",
    "# choice => 질문별 vote의 합계, 평균\n",
    "dic = Choice.objects.values('question_id').annotate(Sum('vote'), Avg('vote'))\n",
    "dic"
   ]
  },
  {
   "cell_type": "code",
   "execution_count": 51,
   "id": "f90a07e6",
   "metadata": {},
   "outputs": [
    {
     "name": "stdout",
     "output_type": "stream",
     "text": [
      "질문: 1, 투표합계: 15, 투표평균: 5.0\n",
      "질문: 2, 투표합계: 18, 투표평균: 4.5\n",
      "질문: 3, 투표합계: 13, 투표평균: 3.25\n"
     ]
    }
   ],
   "source": [
    "for d in dic:\n",
    "    print(f\"질문: {d['question_id']}, 투표합계: {d['vote__sum']}, 투표평균: {d['vote__avg']}\")"
   ]
  },
  {
   "cell_type": "markdown",
   "id": "a97c11f0",
   "metadata": {},
   "source": [
    "# 테이블간의 관계"
   ]
  },
  {
   "cell_type": "markdown",
   "id": "47e146a8",
   "metadata": {},
   "source": [
    "## 자식 테이블에서 부모 테이블의 값을 조회"
   ]
  },
  {
   "cell_type": "code",
   "execution_count": 52,
   "id": "eb6ab434",
   "metadata": {},
   "outputs": [
    {
     "data": {
      "text/plain": [
       "polls.models.Choice"
      ]
     },
     "execution_count": 52,
     "metadata": {},
     "output_type": "execute_result"
    }
   ],
   "source": [
    "c1 = Choice.objects.get(pk=3)\n",
    "type(c1) # c1: Choice 모델 객체"
   ]
  },
  {
   "cell_type": "code",
   "execution_count": 56,
   "id": "e5d70eff",
   "metadata": {},
   "outputs": [
    {
     "data": {
      "text/plain": [
       "(3, 3, '노랑', 3, 1)"
      ]
     },
     "execution_count": 56,
     "metadata": {},
     "output_type": "execute_result"
    }
   ],
   "source": [
    "# 모델에서 속성들 조회 => 각 컬럼들 값 조회\n",
    "c1.id, c1.pk, c1.choice_text, c1.vote, c1.question_id"
   ]
  },
  {
   "cell_type": "code",
   "execution_count": 59,
   "id": "c1ade12c",
   "metadata": {},
   "outputs": [
    {
     "data": {
      "text/plain": [
       "(polls.models.Question, <Question: 좋아하는 색깔은 무엇입니까?>)"
      ]
     },
     "execution_count": 59,
     "metadata": {},
     "output_type": "execute_result"
    }
   ],
   "source": [
    "# Question.objects.get(pk=2)\n",
    "q1 = c1.question # 부모 Model 객체\n",
    "type(q1), q1"
   ]
  },
  {
   "cell_type": "code",
   "execution_count": 60,
   "id": "84682390",
   "metadata": {},
   "outputs": [
    {
     "name": "stdout",
     "output_type": "stream",
     "text": [
      "좋아하는 색깔은 무엇입니까? 2021-05-25 05:17:57.927847+00:00\n"
     ]
    }
   ],
   "source": [
    "print(q1.question_text, q1.pub_date)"
   ]
  },
  {
   "cell_type": "markdown",
   "id": "eea47ac5",
   "metadata": {},
   "source": [
    "## 부모 테이블에서 자식 테이블 값을 조회"
   ]
  },
  {
   "cell_type": "code",
   "execution_count": 62,
   "id": "555bf662",
   "metadata": {},
   "outputs": [
    {
     "data": {
      "text/plain": [
       "<Question: 좋아하는 동물은 무엇입니까?>"
      ]
     },
     "execution_count": 62,
     "metadata": {},
     "output_type": "execute_result"
    }
   ],
   "source": [
    "q = Question.objects.get(pk=2)\n",
    "q"
   ]
  },
  {
   "cell_type": "code",
   "execution_count": 63,
   "id": "021e5cf9",
   "metadata": {},
   "outputs": [
    {
     "data": {
      "text/plain": [
       "(2,\n",
       " '좋아하는 동물은 무엇입니까?',\n",
       " datetime.datetime(2021, 5, 25, 5, 19, 51, 729686, tzinfo=<UTC>))"
      ]
     },
     "execution_count": 63,
     "metadata": {},
     "output_type": "execute_result"
    }
   ],
   "source": [
    "q.id, q.question_text, q.pub_date"
   ]
  },
  {
   "cell_type": "code",
   "execution_count": 67,
   "id": "9c3cdc8b",
   "metadata": {},
   "outputs": [
    {
     "data": {
      "text/plain": [
       "(django.db.models.fields.related_descriptors.create_reverse_many_to_one_manager.<locals>.RelatedManager,\n",
       " <django.db.models.fields.related_descriptors.create_reverse_many_to_one_manager.<locals>.RelatedManager at 0x278c930a3a0>)"
      ]
     },
     "execution_count": 67,
     "metadata": {},
     "output_type": "execute_result"
    }
   ],
   "source": [
    "# Choice.objects.filter(question_id=3)\n",
    "# choice_set == Choice.objects\n",
    "c = q.choice_set # related manager가 반환\n",
    "type(c)"
   ]
  },
  {
   "cell_type": "markdown",
   "id": "eae83c2f",
   "metadata": {},
   "source": [
    "# insert/update/delete\n",
    "- insert/update\n",
    "    - 모델객체(insert할 내용을 가진).save()\n",
    "- delete\n",
    "    - 모델객체(삭제할 pk를 가진).delete()"
   ]
  },
  {
   "cell_type": "code",
   "execution_count": 68,
   "id": "d505212b",
   "metadata": {},
   "outputs": [
    {
     "name": "stdout",
     "output_type": "stream",
     "text": [
      "1\n",
      "2\n",
      "3\n"
     ]
    }
   ],
   "source": [
    "# insert\n",
    "qs = Question.objects.all()\n",
    "for q in qs:\n",
    "    print(q.pk)"
   ]
  },
  {
   "cell_type": "code",
   "execution_count": 69,
   "id": "fb24ba08",
   "metadata": {},
   "outputs": [],
   "source": [
    "from datetime import datetime, timedelta"
   ]
  },
  {
   "cell_type": "code",
   "execution_count": 72,
   "id": "3b6cfcc2",
   "metadata": {},
   "outputs": [
    {
     "data": {
      "text/plain": [
       "('좋아하는 가수는?', datetime.datetime(2021, 5, 26, 11, 22, 23, 868726), None)"
      ]
     },
     "execution_count": 72,
     "metadata": {},
     "output_type": "execute_result"
    }
   ],
   "source": [
    "# pk: id - 자동증가(생략)\n",
    "new_q = Question()\n",
    "# new_q.id = 숫자 : 명시적으로 집어 넣을 수 있다.\n",
    "# 자동증가하는 pk에는 명시적으로 넣지 않는게 좋다.\n",
    "new_q.question_text = \"좋아하는 가수는?\"\n",
    "new_q.pub_date = datetime.now()\n",
    "new_q.question_text, new_q.pub_date, new_q.pk"
   ]
  },
  {
   "cell_type": "code",
   "execution_count": 73,
   "id": "40ba0117",
   "metadata": {},
   "outputs": [],
   "source": [
    "new_q.save()"
   ]
  },
  {
   "cell_type": "code",
   "execution_count": 82,
   "id": "49ce7053",
   "metadata": {},
   "outputs": [
    {
     "name": "stdout",
     "output_type": "stream",
     "text": [
      "1 좋아하는 꽃은 무엇입니까? 2021-02-15 02:30:07.116741+00:00\n",
      "2 좋아하는 동물은 무엇입니까? 2021-05-25 05:19:51.729686+00:00\n",
      "3 가고싶은 여행지는 어디입니까? 2021-05-25 05:21:04.197259+00:00\n",
      "4 좋아하는 가수는? 2021-05-26 02:22:38.998154+00:00\n"
     ]
    }
   ],
   "source": [
    "qs = Question.objects.all()\n",
    "for q in qs:\n",
    "    print(q.pk, q.question_text, q.pub_date)"
   ]
  },
  {
   "cell_type": "code",
   "execution_count": 81,
   "id": "6c7b1cfe",
   "metadata": {},
   "outputs": [
    {
     "name": "stderr",
     "output_type": "stream",
     "text": [
      "c:\\users\\green\\anaconda3\\envs\\django\\lib\\site-packages\\django\\db\\models\\fields\\__init__.py:1416: RuntimeWarning: DateTimeField Question.pub_date received a naive datetime (2021-02-15 11:30:07.116741) while time zone support is active.\n",
      "  warnings.warn(\"DateTimeField %s received a naive datetime (%s)\"\n"
     ]
    }
   ],
   "source": [
    "q = Question.objects.get(pk=1)\n",
    "q.question_text = \"좋아하는 꽃은 무엇입니까?\"\n",
    "q.pub_date = datetime.now() - timedelta(days=100)\n",
    "q.question_text, q.pub_date\n",
    "# q 객체만 바뀐 것이지 DB에는 업데이트 되어있지 않음\n",
    "q.save()\n",
    "# q.save()를 통해 DB업데이트"
   ]
  },
  {
   "cell_type": "code",
   "execution_count": null,
   "id": "8a3e8c24",
   "metadata": {},
   "outputs": [],
   "source": [
    "qs = Question.objects.all()\n",
    "for q in qs:\n",
    "    print(q.pk, q.question_text, q.pub_date)"
   ]
  },
  {
   "cell_type": "code",
   "execution_count": 83,
   "id": "fb49ac7b",
   "metadata": {},
   "outputs": [
    {
     "data": {
      "text/plain": [
       "(1, '', None)"
      ]
     },
     "execution_count": 83,
     "metadata": {},
     "output_type": "execute_result"
    }
   ],
   "source": [
    "# 삭제\n",
    "d_q = Question()\n",
    "d_q.id = 1\n",
    "d_q.id, d_q.question_text, d_q.pub_date"
   ]
  },
  {
   "cell_type": "code",
   "execution_count": 84,
   "id": "16517c1f",
   "metadata": {},
   "outputs": [
    {
     "data": {
      "text/plain": [
       "(4, {'polls.Choice': 3, 'polls.Question': 1})"
      ]
     },
     "execution_count": 84,
     "metadata": {},
     "output_type": "execute_result"
    }
   ],
   "source": [
    "d_q.delete()"
   ]
  },
  {
   "cell_type": "code",
   "execution_count": 85,
   "id": "e6ab6612",
   "metadata": {},
   "outputs": [
    {
     "name": "stdout",
     "output_type": "stream",
     "text": [
      "2 좋아하는 동물은 무엇입니까? 2021-05-25 05:19:51.729686+00:00\n",
      "3 가고싶은 여행지는 어디입니까? 2021-05-25 05:21:04.197259+00:00\n",
      "4 좋아하는 가수는? 2021-05-26 02:22:38.998154+00:00\n"
     ]
    }
   ],
   "source": [
    "qs = Question.objects.all()\n",
    "for q in qs:\n",
    "    print(q.pk, q.question_text, q.pub_date)"
   ]
  },
  {
   "cell_type": "code",
   "execution_count": 86,
   "id": "674bc916",
   "metadata": {},
   "outputs": [
    {
     "data": {
      "text/plain": [
       "<QuerySet [<Choice: 영국>, <Choice: 일본>, <Choice: 중국>, <Choice: 고양이>, <Choice: 강아지>, <Choice: 코알라>, <Choice: 여우>, <Choice: 미국>]>"
      ]
     },
     "execution_count": 86,
     "metadata": {},
     "output_type": "execute_result"
    }
   ],
   "source": [
    "Choice.objects.all()"
   ]
  },
  {
   "cell_type": "code",
   "execution_count": 87,
   "id": "a014b825",
   "metadata": {},
   "outputs": [],
   "source": [
    "# 특정 조건의 데이터들을 삭제 => 조회\n",
    "# choice_text에 '국'이 들어간 것들 삭제\n",
    "qs = Choice.objects.filter(choice_text__endswith='국')\n",
    "for q in qs:\n",
    "    q.delete()"
   ]
  },
  {
   "cell_type": "code",
   "execution_count": 88,
   "id": "ddc9f08e",
   "metadata": {},
   "outputs": [
    {
     "data": {
      "text/plain": [
       "<QuerySet [<Choice: 일본>, <Choice: 고양이>, <Choice: 강아지>, <Choice: 코알라>, <Choice: 여우>]>"
      ]
     },
     "execution_count": 88,
     "metadata": {},
     "output_type": "execute_result"
    }
   ],
   "source": [
    "Choice.objects.all()"
   ]
  },
  {
   "cell_type": "markdown",
   "id": "8527fe88",
   "metadata": {},
   "source": [
    "# 직접 SQL문을 실행\n",
    "- 모델.objects.raw('select문')\n",
    "    - RawQuerySet"
   ]
  },
  {
   "cell_type": "code",
   "execution_count": 90,
   "id": "10bb7459",
   "metadata": {},
   "outputs": [
    {
     "name": "stdout",
     "output_type": "stream",
     "text": [
      "select * from polls_choice\n"
     ]
    }
   ],
   "source": [
    "rq = Choice.objects.raw('select * from polls_choice')\n",
    "# rq\n",
    "print(rq.query)"
   ]
  },
  {
   "cell_type": "code",
   "execution_count": 92,
   "id": "7adf9fae",
   "metadata": {},
   "outputs": [
    {
     "name": "stdout",
     "output_type": "stream",
     "text": [
      "일본 <class 'polls.models.Choice'>\n",
      "고양이 <class 'polls.models.Choice'>\n",
      "강아지 <class 'polls.models.Choice'>\n",
      "코알라 <class 'polls.models.Choice'>\n",
      "여우 <class 'polls.models.Choice'>\n"
     ]
    }
   ],
   "source": [
    "for q in rq:\n",
    "    print(q, type(q))"
   ]
  },
  {
   "cell_type": "code",
   "execution_count": null,
   "id": "a0eac87c",
   "metadata": {},
   "outputs": [],
   "source": []
  }
 ],
 "metadata": {
  "kernelspec": {
   "display_name": "opencv",
   "language": "python",
   "name": "opencv"
  },
  "language_info": {
   "codemirror_mode": {
    "name": "ipython",
    "version": 3
   },
   "file_extension": ".py",
   "mimetype": "text/x-python",
   "name": "python",
   "nbconvert_exporter": "python",
   "pygments_lexer": "ipython3",
   "version": "3.8.5"
  }
 },
 "nbformat": 4,
 "nbformat_minor": 5
}